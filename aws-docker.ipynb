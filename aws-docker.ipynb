{
 "cells": [
  {
   "cell_type": "markdown",
   "metadata": {},
   "source": [
    "# Using Amazon Web Services and Docker\n",
    "\n",
    "### Chris Messier"
   ]
  },
  {
   "cell_type": "markdown",
   "metadata": {},
   "source": [
    "## Goals\n",
    "\n",
    "### Amazon Web Services (AWS)\n",
    "- Understand the value and purpose of using an Amazon Web Services ec2 instance\n",
    "- Sign Up for an AWS Account\n",
    "- Request access to a GPU Compute instance\n",
    "    - Understanding accelerated GPU computing\n",
    "- Install AWS command line tools\n",
    "    - Install AWS python API\n"
   ]
  },
  {
   "cell_type": "markdown",
   "metadata": {},
   "source": [
    "## AWS\n",
    "\n",
    "https://aws.amazon.com/"
   ]
  },
  {
   "cell_type": "markdown",
   "metadata": {},
   "source": [
    "### Overview"
   ]
  },
  {
   "cell_type": "markdown",
   "metadata": {},
   "source": [
    "#### Cloud Computing\n",
    "The plummeting cost of processing power, and the rising demand for it, has lead to the rise of a large number of cloud computing services.\n",
    "Cloud computing is a rather simple concept.\n",
    "A cloud computing company owns a large number of computers and they will rent them to you if you need to use them.\n",
    "They provide access to a large amount of computional resources, at a low price.\n",
    "This lowers the barriers to entry imposed by the large upfront costs of building your own hardware, removes the costs associated with maintaining the hardware, and allows you the flexibility to scale to you moment-to-moment needs.\n",
    "The large network of computing centers also means that computation can be distributed, and therefore is more fault tolerant than localized hardware resources.\n",
    "\n",
    "There are some downsides though:\n",
    "- Latency\n",
    "- Security\n",
    "- Higher marginal costs"
   ]
  },
  {
   "cell_type": "markdown",
   "metadata": {},
   "source": [
    "#### Why Amazon Web Services, though?\n",
    "\n",
    "[Comparison of Google Cloud and AWS](https://kinsta.com/blog/google-cloud-vs-aws/)\n",
    "\n",
    "When it comes to cloud computing, AWS has a commanding market share.\n",
    "\n",
    "![alt text](assets/cloud-compare.png)\n",
    "\n",
    "This means knowing how to use it can be an invaluable skill to have on your resume."
   ]
  },
  {
   "cell_type": "markdown",
   "metadata": {},
   "source": [
    "#### Available Resources"
   ]
  },
  {
   "cell_type": "markdown",
   "metadata": {},
   "source": [
    "#### Elastic Compute Cloud (ec2)\n",
    "\n",
    "The primary service that we will be discussing today is AWS' Elastic Compute Cloud, or ec2.\n",
    "This service allows you to run programs remotely on an AWS server.\n",
    "What this means, is that you have access to a wide range of hardware so that you can use the right tools to complete the various tasks that you may need when working on"
   ]
  },
  {
   "cell_type": "markdown",
   "metadata": {},
   "source": [
    "#### Why do we want to use the cloud anyway?"
   ]
  },
  {
   "cell_type": "markdown",
   "metadata": {},
   "source": [
    "### _To the cloud!_"
   ]
  },
  {
   "cell_type": "markdown",
   "metadata": {},
   "source": [
    "### Sign Up\n",
    "\n",
    "The sign up process for AWS is fairly simple.\n",
    "Just go [here](https://portal.aws.amazon.com/gp/aws/developer/registration/index.html) and sign up, just like you would any other website.\n",
    "You will have to put down a credit card, in case you do incur any charges, but there is a free option.\n",
    "For this, make sure you sign up for the __Free Tier__ account.\n",
    "This will give you access to a lot of AWS' services free for a year.\n",
    "Much of what you'll want to do with AWS will be covered by the Free Tier.\n",
    "After you signing up, make sure you select `us-east-1`, Northern Virginia as your region.\n",
    "(For some reason the default is Ohio...)\n",
    "\n",
    "Once you have signed up, slack Brems the email address you used to create the account, and he will add you to the GA-DSI-6 organization.\n",
    "\n",
    "\n",
    "For our purposes though, we will need to use a paid service, a p2.xlarge GPU compute instance."
   ]
  },
  {
   "cell_type": "markdown",
   "metadata": {},
   "source": [
    "### GPU Computing\n",
    "\n",
    "Provide an overview of GPU computing, and its use in Data Science"
   ]
  },
  {
   "cell_type": "markdown",
   "metadata": {},
   "source": [
    "### Request instance increase\n",
    "\n",
    "AWS understands that when users are just starting out, they are prone to making mistakes.\n",
    "A mistake that is common for new users is not understanding the difference between various kinds of ec2 compute instances.\n",
    "While AWS does offer free tier services, using some ec2 instances can get incredibly costly.\n",
    "For example, accidentally leaving a p2.16xlarge instance running all month will cost you around $10,540.80, which is a rather costly mistake to make.\n",
    "To mitigate this risk, AWS resricts the instances that you have access.\n",
    "In order to use more powerful ec2 instances, you will need to request access to it.\n",
    "\n",
    "Luckily, we it's not difficult to request an instance increase.\n",
    "We simply have to go through AWS' support center.\n",
    "It is important to note that it can take 24-48 hours for the request to go through, so in order to get ahead of the curve, we're going to submit the request before moving forward."
   ]
  },
  {
   "cell_type": "markdown",
   "metadata": {},
   "source": [
    "### Step 1: Go to the support center\n",
    "\n",
    "![Menu Bar](assets/menu-bar.png)"
   ]
  },
  {
   "cell_type": "markdown",
   "metadata": {},
   "source": [
    "### Step 2: Create a support case\n",
    "\n",
    "![Create Case](assets/create-case.png)"
   ]
  },
  {
   "cell_type": "markdown",
   "metadata": {},
   "source": [
    "### Step 3: Request a limit increase \n",
    "\n",
    "![Instance Request](assets/instance-request.png)"
   ]
  },
  {
   "cell_type": "markdown",
   "metadata": {},
   "source": [
    "### Step 4: Wait..."
   ]
  },
  {
   "cell_type": "markdown",
   "metadata": {},
   "source": [
    "### _In the mean time..._"
   ]
  },
  {
   "cell_type": "markdown",
   "metadata": {},
   "source": [
    "### Installing AWS command line tools\n",
    "\n",
    "We will be connecting to the ec2 instances through our terminal of choice.\n",
    "To do this though, we have to install AWS command line tools.\n",
    "The aws command line tools will allow you to interact with your ec2 instance through your command line.\n",
    "This means you will always have access to, and the ability to interact with, your compute instances.\n",
    "\n",
    "[aws documentation](http://docs.aws.amazon.com/cli/latest/userguide/installing.html)"
   ]
  },
  {
   "cell_type": "code",
   "execution_count": 3,
   "metadata": {},
   "outputs": [
    {
     "name": "stdout",
     "output_type": "stream",
     "text": [
      "Collecting awscli\n",
      "  Using cached awscli-1.13.0-py2.py3-none-any.whl\n",
      "Collecting rsa<=3.5.0,>=3.1.2 (from awscli)\n",
      "  Using cached rsa-3.4.2-py2.py3-none-any.whl\n",
      "Requirement already up-to-date: docutils>=0.10 in /usr/local/lib/python3.6/site-packages (from awscli)\n",
      "Requirement already up-to-date: PyYAML<=3.12,>=3.10 in /usr/local/lib/python3.6/site-packages (from awscli)\n",
      "Requirement already up-to-date: s3transfer<0.2.0,>=0.1.9 in /usr/local/lib/python3.6/site-packages (from awscli)\n",
      "Collecting colorama<=0.3.7,>=0.2.5 (from awscli)\n",
      "  Using cached colorama-0.3.7-py2.py3-none-any.whl\n",
      "Collecting botocore==1.8.3 (from awscli)\n",
      "  Using cached botocore-1.8.3-py2.py3-none-any.whl\n",
      "Collecting pyasn1>=0.1.3 (from rsa<=3.5.0,>=3.1.2->awscli)\n",
      "  Using cached pyasn1-0.4.2-py2.py3-none-any.whl\n",
      "Requirement already up-to-date: python-dateutil<3.0.0,>=2.1 in /usr/local/lib/python3.6/site-packages (from botocore==1.8.3->awscli)\n",
      "Requirement already up-to-date: jmespath<1.0.0,>=0.7.1 in /usr/local/lib/python3.6/site-packages (from botocore==1.8.3->awscli)\n",
      "Requirement already up-to-date: six>=1.5 in /usr/local/lib/python3.6/site-packages (from python-dateutil<3.0.0,>=2.1->botocore==1.8.3->awscli)\n",
      "Installing collected packages: pyasn1, rsa, colorama, botocore, awscli\n",
      "Successfully installed awscli-1.13.0 botocore-1.8.3 colorama-0.3.7 pyasn1-0.4.2 rsa-3.4.2\n"
     ]
    }
   ],
   "source": [
    "! pip3 install awscli --upgrade --user  # running this should install everything that is needed..."
   ]
  },
  {
   "cell_type": "markdown",
   "metadata": {},
   "source": [
    "### Launching an EC2 Instance\n",
    "\n",
    "Walk class through launching an ec2 instance, and connecting via the commandline.\n",
    "Have a ready to go `\"Hello, World\"` program to run on the instance."
   ]
  },
  {
   "cell_type": "markdown",
   "metadata": {},
   "source": [
    "When it comes to launching an aws instance, there's the [easy way](https://console.aws.amazon.com/quickstart/vm/home?region=us-east-1#), and then there's the way we're going to do it.\n",
    "\n",
    "First we'll have to go to the [EC2 Management Console](https://console.aws.amazon.com/ec2/v2/home?region=us-east-1).\n",
    "The EC2 Management Console gives you an overview of the instances you have running.\n",
    "It's important to note that it's region specific.\n",
    "That means that if you happened to launch an instance somewhere, let's say Ohio, then you won't see it on your `us-east-1` console."
   ]
  },
  {
   "cell_type": "markdown",
   "metadata": {},
   "source": [
    "### Step 0: press the \"Launch Instance\" button.\n",
    "\n",
    "![Launch Instance](assets/launch-instance.png)"
   ]
  },
  {
   "cell_type": "markdown",
   "metadata": {},
   "source": [
    "### Step 1: Choose AMI\n",
    "\n",
    "For this step, you essentially are selecting the operating system and software environment that will be installled on your EC2 instance.\n",
    "There are a large number of options available, with many AMIs designed for specific purposes.\n",
    "For now, we will just choose the Amazon Linux AMI (the first option), by pressing the \"Select\" button.\n",
    "\n",
    "![Choose AMI](assets/aws-ami.png)"
   ]
  },
  {
   "cell_type": "markdown",
   "metadata": {},
   "source": [
    "### Step 2: Choose Instance Type\n",
    "\n",
    "Here we will be selecting the actual hardware that we will be running on.\n",
    "For this simple introduction, we'll be using a t2.micro instance.\n",
    "Select this by highlighting the box to the left of the instance, and pressing \"Next: Configure Instance Details\" on the lower right of the screen.\n",
    "\n",
    "![Choose Instance](assets/aws-instance.png)"
   ]
  },
  {
   "cell_type": "markdown",
   "metadata": {},
   "source": [
    "### Step 3: Configure Instance Details\n",
    "\n",
    "![Configure Instance](assets/aws-configure.png)"
   ]
  },
  {
   "cell_type": "markdown",
   "metadata": {},
   "source": [
    "### Step 4: Add Storage\n",
    "\n",
    "8 GB will be fine for now.\n",
    "\n",
    "![Configure Instance](assets/add-storage.png)"
   ]
  },
  {
   "cell_type": "markdown",
   "metadata": {},
   "source": [
    "### Step 5: Add Tags\n",
    "\n",
    "We're going to skip this..."
   ]
  },
  {
   "cell_type": "markdown",
   "metadata": {},
   "source": [
    "### Step 6: Configure Security Group\n",
    "\n",
    "Here you will need to set the security for your instance.\n",
    "This is what makes sure only the people you want are able to connect to your instance.\n",
    "\n",
    "# NEVER SET SOURCE TO \"ANYWHERE\"\n",
    "\n",
    "Open ports are a nefarious hacker's playground.\n",
    "\n",
    "Once you're done, press \"Review and Launch\"\n",
    "\n",
    "![Configure Instance](assets/configure-security.png)"
   ]
  },
  {
   "cell_type": "markdown",
   "metadata": {},
   "source": [
    "### Step 5: Review Instance Launch\n",
    "\n",
    "We're almost there!\n",
    "Make sure that everything is set up correctly.\n",
    "Once everything looks right, press \"Launch\".\n",
    "\n",
    "![Review Instance](assets/review-instance.png)"
   ]
  },
  {
   "cell_type": "markdown",
   "metadata": {},
   "source": [
    "### Step 6: Create Security Key\n",
    "\n",
    "After you hit launch, you will have seen a pop-up appear, asking you to create a new security key (or use an existing key).\n",
    "What is created is a `.pem` file which is the key you will use to access your instance.\n",
    "After it finishes downloading, move it to some place safe.\n",
    "You ___NEED___ to keep this file secure, as losing it means you won't be able to access your instance any more.\n",
    "Remember where you put this file also, as you will need to know it's location in order to reference it when you connect.\n",
    "For the sake of consistency, I will place mine on my desktop.\n",
    "I do not recommend keeping your .pem files on your desktop, but instead creating a directory for them that will keep it all safe."
   ]
  },
  {
   "cell_type": "markdown",
   "metadata": {},
   "source": [
    "### Step 7: Launching the Instance\n",
    "\n",
    "You did it!\n",
    "\n",
    "![Launching Instance](assets/instance-launch.png)\n",
    "\n",
    "Somewhere in Reston a processor just started running, and _you_ made that happen!\n",
    "Now we just have to connect to it.\n",
    "Press the \"View Instances\" button to see the instances that are running.\n",
    "Here you'll get the information necessary to connect to your ec2 instance."
   ]
  },
  {
   "cell_type": "markdown",
   "metadata": {},
   "source": [
    "### Step 8: Connecting to your Instance\n",
    "\n",
    "Select your instance, then at the top of the console, press \"Connect\".\n",
    "This will launch a pop-up that gives you information on how to connect to your instance.\n",
    "For what I hope are obvious security reasons, I won't be including screen shots for this part, but we will walk through it together.\n",
    "The most important part is what you see under \"Example\", which should be something like the following:\n",
    "```commandline\n",
    "ssh -i \"my-key.pem\" ec2-user@ec2-000-000-000-00.compute-1.amazonaws.com\n",
    "```\n",
    "This is the command you will use to connect to your instance through your terminal, so copy it now.\n",
    "\n",
    "Open your terminal and navigate to the directory you saved your `.pem` file in.\n",
    "Paste the command that you got from above, and hit enter to connect.\n",
    "In a few moments you should see output similar to what you see below.\n",
    "\n",
    "![EC2 Terminal](assets/ec2-terminal.png)\n",
    "\n",
    "\n",
    "_Note: Your output will look slightly different. I took this screenshot while using the gpu compute instance I set up. Whoops!_"
   ]
  },
  {
   "cell_type": "markdown",
   "metadata": {},
   "source": [
    "### Step 9: Moving files to AWS\n",
    "\n",
    "Now that we're up and running, we need to know how to get the programs we've worked tirelessly on up into the cloud.\n",
    "This isn't as easy as simply dragging and dropping, but it's not terribly difficult.\n",
    "To do this we use the following command:\n",
    "```commandline\n",
    "scp -i <.pem file> <file to copy>  <ec2 address>:<path on instance>\n",
    "```\n",
    "\n",
    "More often than not though, you won't be copying a single file, but instead you'll be copying a directory.\n",
    "To do this we simply add the `-r` argument to `scp` like so\n",
    "```commandline\n",
    "scp -r -i <.pem file> <folder to copy>  <ec2 address>:<path on instance>\n",
    "```\n",
    "\n",
    "Let's just focus on copying a single file.\n",
    "In the repo for this talk, you'll find a file named `hello_aws.py`.\n",
    "Let's go ahead and copy it up to the instace we created.\n",
    "Your command should look something like:\n",
    "```commandline\n",
    "scp -i \"my-key.pem\" \"aws-docker-talk/hello_aws.py\" ec2-user@ec2-000-000-000-00.compute-1.amazonaws.com:~\n",
    "```\n",
    "\n",
    "This will copy the file to the root directory of the ec2 instance.\n",
    "Once it's there let's go ahead and execute it with:\n",
    "```commandline\n",
    "python hello_aws.py\n",
    "```\n",
    "\n",
    "This is obviously a toy example.\n"
   ]
  },
  {
   "cell_type": "markdown",
   "metadata": {},
   "source": [
    "### Step 10: Editing files on AWS\n",
    "\n",
    "How you edit files on AWS will depend somewhat on what AMI you've chosen to use.\n",
    "However, a vim is always a go to option.\n",
    "Let's use vim to edit `hello_aws.py`\n",
    "\n",
    "```commandline\n",
    "vim hello_aws.py\n",
    "```\n",
    "\n",
    "You should see something like this:\n",
    "\n",
    "![vim on AWS](assets/aws-vim.png)\n",
    "\n",
    "vim is a rather basic text editor, which may seem a bit clunky, but here are some basic commands.\n",
    "- `i`: Insert mode (this is how you type)\n",
    "- `esc`: Command mode (this lets you do things like saving)\n",
    "- `w`: [while in command mode] write to disk\n",
    "- `q`: [while in command mode] quit\n",
    "- `wq`:[while in command mode] write and quit\n",
    "- `q!`: [while in command mode] quit without saving"
   ]
  },
  {
   "cell_type": "markdown",
   "metadata": {},
   "source": [
    "### Step 10: Moving files from AWS\n",
    "\n",
    "After you're done running your awesome program in the cloud, you're going to want to get them back to your local computer.\n",
    "To do this, we once again use `scp`, but change up the command a bit.\n",
    "\n",
    "```commandline\n",
    "scp -i <.pem file> <ec2 address>:<file path on instance> <local file path>\n",
    "```\n",
    "\n",
    "So to get our `hello_aws.py` file back on our local disk, we'll use something like this:\n",
    "\n",
    "```commandline\n",
    "scp -i \"my-key.pem\" ec2-user@ec2-000-000-000-00.compute-1.amazonaws.com:~/hello_aws.py \"aws-docker-talk/\"\n",
    "```\n",
    "\n",
    "Check to see if the file has been updated locally."
   ]
  },
  {
   "cell_type": "markdown",
   "metadata": {},
   "source": [
    "### Step 11: Shut down\n",
    "\n",
    "After you are done with your ec2 instance, you will need to shut it down.\n",
    "While we launched a Free Tier instance here, a paid instance that's forgotten about and left running can end up costing you a large sum of money.\n",
    "To shut down your ec2 instance, return to the aws management console, [here](https://console.aws.amazon.com/ec2/v2/home?region=us-east-1#Instances:sort=desc:tag:Name).\n",
    "Once again, select your instance, but then press the \"Actions\" button at the top of the screen.\n",
    "This will open a drop down menu.\n",
    "You'll want to navigate to:\n",
    "\n",
    "```\n",
    "Actions $\\to$ Instance State\n",
    "```\n",
    "\n",
    "Here you should see several options, but the two we'll focus on are __Stop__ and __Terminate__.\n",
    "\n",
    "- __Stop__: Will halt the use of the instance, and frees up the hardware for another user. Anything in memory will be lost, however things written to disk will still be accessible when the instance is launched again. _Note: You may be charged a nominal fee to keep files on a disk volume._\n",
    "- __Terminate__: Stops the instance, but then deletes the volumes, and removes the instance. With this everything will be lost.\n",
    "\n",
    "As this was simply an excercise in setting up an EC2 instance, I recommend terminating the instance.\n",
    "When working with a real instance, you'll want to ensure that you stop the instance and move all the files off the instance before terminating it."
   ]
  },
  {
   "cell_type": "markdown",
   "metadata": {},
   "source": [
    "### Wrap Up\n",
    "\n",
    "We discussed the role that cloud computing plays in a data science workflow, created an AWS account, and launched an EC2 instance.\n",
    "When you set up your own instance, I recommend using the following settings:\n",
    "\n",
    "- Use the Amazon Linux Deep Learning AMI\n",
    "- Use a p2.xlarge instance\n",
    "    - uses Nvidia Tesla K80\n",
    "    - costs around $0.90 an hour\n",
    "- Use 50+ gb of storage (maybe more if doing image tasks)\n",
    "- Optimze your gpu usage according to the following explainer: [optimizing nvidia gpu](http://docs.aws.amazon.com/AWSEC2/latest/UserGuide/optimize_gpu.html)"
   ]
  },
  {
   "cell_type": "markdown",
   "metadata": {},
   "source": [
    "## Docker\n",
    "\n",
    "https://www.docker.com/"
   ]
  },
  {
   "cell_type": "markdown",
   "metadata": {},
   "source": [
    "### Overview\n",
    "\n",
    "Explain the benefits of Docker."
   ]
  },
  {
   "cell_type": "markdown",
   "metadata": {},
   "source": [
    "### Installation"
   ]
  },
  {
   "cell_type": "markdown",
   "metadata": {},
   "source": [
    "### Sign Up"
   ]
  },
  {
   "cell_type": "markdown",
   "metadata": {},
   "source": [
    "### Deploy Container\n",
    "\n",
    "For this, I should build something using `cv2` and then have them run it."
   ]
  },
  {
   "cell_type": "code",
   "execution_count": null,
   "metadata": {},
   "outputs": [],
   "source": []
  }
 ],
 "metadata": {
  "kernelspec": {
   "display_name": "Python 3",
   "language": "python",
   "name": "python3"
  },
  "language_info": {
   "codemirror_mode": {
    "name": "ipython",
    "version": 3
   },
   "file_extension": ".py",
   "mimetype": "text/x-python",
   "name": "python",
   "nbconvert_exporter": "python",
   "pygments_lexer": "ipython3",
   "version": "3.6.3"
  }
 },
 "nbformat": 4,
 "nbformat_minor": 2
}
